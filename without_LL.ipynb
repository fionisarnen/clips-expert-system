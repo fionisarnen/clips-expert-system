{
  "nbformat": 4,
  "nbformat_minor": 0,
  "metadata": {
    "colab": {
      "name": "without_LL.ipynb",
      "provenance": [],
      "collapsed_sections": [
        "J59v628ngaem",
        "3eCFFOH_gk9h"
      ],
      "toc_visible": true,
      "authorship_tag": "ABX9TyOkXcjJfy9+oC+XTOEJFUlS",
      "include_colab_link": true
    },
    "kernelspec": {
      "name": "python3",
      "display_name": "Python 3"
    }
  },
  "cells": [
    {
      "cell_type": "markdown",
      "metadata": {
        "id": "view-in-github",
        "colab_type": "text"
      },
      "source": [
        "<a href=\"https://colab.research.google.com/github/fionisarnen/clips-expert-system/blob/master/without_LL.ipynb\" target=\"_parent\"><img src=\"https://colab.research.google.com/assets/colab-badge.svg\" alt=\"Open In Colab\"/></a>"
      ]
    },
    {
      "cell_type": "markdown",
      "metadata": {
        "id": "lu4U9oNOeec9",
        "colab_type": "text"
      },
      "source": [
        "**Supported Library**"
      ]
    },
    {
      "cell_type": "code",
      "metadata": {
        "id": "avCxXDeYxANO",
        "colab_type": "code",
        "colab": {
          "base_uri": "https://localhost:8080/",
          "height": 33
        },
        "outputId": "f753ef1b-0395-4e03-9ead-b6dea6f15c6a"
      },
      "source": [
        "%tensorflow_version 1.x"
      ],
      "execution_count": null,
      "outputs": [
        {
          "output_type": "stream",
          "text": [
            "TensorFlow 1.x selected.\n"
          ],
          "name": "stdout"
        }
      ]
    },
    {
      "cell_type": "code",
      "metadata": {
        "id": "aJk3ID1SPA7Z",
        "colab_type": "code",
        "colab": {
          "base_uri": "https://localhost:8080/",
          "height": 33
        },
        "outputId": "8da28102-8776-4c0a-d834-1df5f8d1c201"
      },
      "source": [
        "import keras\n",
        "import tensorflow as tf\n",
        "import pandas as pd\n",
        "import matplotlib.pyplot as plt\n",
        "import plotly.graph_objects as go\n",
        "import warnings\n",
        "import numpy as np"
      ],
      "execution_count": null,
      "outputs": [
        {
          "output_type": "stream",
          "text": [
            "Using TensorFlow backend.\n"
          ],
          "name": "stderr"
        }
      ]
    },
    {
      "cell_type": "code",
      "metadata": {
        "id": "xYMoxFX8PJfC",
        "colab_type": "code",
        "colab": {}
      },
      "source": [
        "from sklearn.preprocessing import LabelEncoder, OneHotEncoder\n",
        "from tensorflow.keras.utils import plot_model\n",
        "from copy import deepcopy\n",
        "from keras.models import Model\n",
        "from keras import backend as K\n",
        "from keras.layers import Dense, Input\n",
        "from keras.models import Sequential\n",
        "from keras.callbacks import EarlyStopping\n",
        "from time import time\n",
        "from keras.callbacks import TensorBoard\n",
        "from keras import optimizers\n",
        "from keras.wrappers.scikit_learn import KerasClassifier"
      ],
      "execution_count": null,
      "outputs": []
    },
    {
      "cell_type": "code",
      "metadata": {
        "id": "38sHNL7FPNR0",
        "colab_type": "code",
        "colab": {
          "base_uri": "https://localhost:8080/",
          "height": 118
        },
        "outputId": "c58873b9-dcc1-4e02-f92c-07c48a716877"
      },
      "source": [
        "from google.colab import drive\n",
        "drive.mount('/content/drive')"
      ],
      "execution_count": null,
      "outputs": [
        {
          "output_type": "stream",
          "text": [
            "Go to this URL in a browser: https://accounts.google.com/o/oauth2/auth?client_id=947318989803-6bn6qk8qdgf4n4g3pfee6491hc0brc4i.apps.googleusercontent.com&redirect_uri=urn%3aietf%3awg%3aoauth%3a2.0%3aoob&scope=email%20https%3a%2f%2fwww.googleapis.com%2fauth%2fdocs.test%20https%3a%2f%2fwww.googleapis.com%2fauth%2fdrive%20https%3a%2f%2fwww.googleapis.com%2fauth%2fdrive.photos.readonly%20https%3a%2f%2fwww.googleapis.com%2fauth%2fpeopleapi.readonly&response_type=code\n",
            "\n",
            "Enter your authorization code:\n",
            "··········\n",
            "Mounted at /content/drive\n"
          ],
          "name": "stdout"
        }
      ]
    },
    {
      "cell_type": "markdown",
      "metadata": {
        "id": "zssbXHhigDaP",
        "colab_type": "text"
      },
      "source": [
        "# Keras Model"
      ]
    },
    {
      "cell_type": "markdown",
      "metadata": {
        "id": "tnMqU1Wxa9OV",
        "colab_type": "text"
      },
      "source": [
        "**Define** **Network**"
      ]
    },
    {
      "cell_type": "code",
      "metadata": {
        "id": "3WCxuT6_uAgR",
        "colab_type": "code",
        "colab": {}
      },
      "source": [
        "def create_model():\n",
        "  model = Sequential()\n",
        "  model.add(Dense(100,input_dim = 19,activation='relu'))\n",
        "  model.add(Dense(1,activation='sigmoid'))\n",
        "  return model"
      ],
      "execution_count": null,
      "outputs": []
    },
    {
      "cell_type": "code",
      "metadata": {
        "id": "dP6UMUe4Sppz",
        "colab_type": "code",
        "colab": {}
      },
      "source": [
        "def train_model(xx,yy,model,validation,verbose=1,epochs=20,loss=\"binary_crossentropy\"):\n",
        "  opt = optimizers.Adam(lr=0.00001)\n",
        "  es = EarlyStopping(monitor='val_loss', mode='min', verbose=1, patience=20)\n",
        "  model.compile(optimizer=opt,loss=\"binary_crossentropy\",metrics=['acc'])\n",
        "  history = model.fit(xx,yy,epochs=epochs,batch_size=32,verbose=verbose,validation_data=validation,callbacks=[es])\n",
        "  return model,history"
      ],
      "execution_count": null,
      "outputs": []
    },
    {
      "cell_type": "markdown",
      "metadata": {
        "id": "FuhymhgOgI4Z",
        "colab_type": "text"
      },
      "source": [
        "# Dataset import"
      ]
    },
    {
      "cell_type": "markdown",
      "metadata": {
        "id": "J59v628ngaem",
        "colab_type": "text"
      },
      "source": [
        "## Task 1"
      ]
    },
    {
      "cell_type": "code",
      "metadata": {
        "id": "pTC4BQlr66z0",
        "colab_type": "code",
        "colab": {}
      },
      "source": [
        "#Load dataset.csv for task 1 from drive\n",
        "path = \"/content/drive/My Drive/Colab Notebooks/Contoh/versi aing/WA_Fn-UseC_-Telco-Customer-Churn.csv\"\n",
        "task1 = pd.read_csv(path)"
      ],
      "execution_count": null,
      "outputs": []
    },
    {
      "cell_type": "code",
      "metadata": {
        "id": "z57EoBlZaqrr",
        "colab_type": "code",
        "colab": {}
      },
      "source": [
        "#Encode Categorical\n",
        "new = task1.columns.tolist()\n",
        "le = LabelEncoder()\n",
        "task1[new] = task1[new].apply(lambda col: le.fit_transform(col))\n",
        "##\n",
        "data1 = task1[new].drop(['customerID'], axis = 1) \n",
        "newdata = deepcopy(data1)"
      ],
      "execution_count": null,
      "outputs": []
    },
    {
      "cell_type": "code",
      "metadata": {
        "id": "oBasMhr4foyq",
        "colab_type": "code",
        "colab": {}
      },
      "source": [
        "#separating data and label class\n",
        "target = newdata['Churn']\n",
        "#feature data\n",
        "data = newdata.drop(columns=['Churn'])\n",
        "#cast it as input for our model\n",
        "xA = data\n",
        "yA = target"
      ],
      "execution_count": null,
      "outputs": []
    },
    {
      "cell_type": "code",
      "metadata": {
        "id": "XgT6hMjwaY4i",
        "colab_type": "code",
        "colab": {}
      },
      "source": [
        "#input for nn\n",
        "x = data\n",
        "y = target"
      ],
      "execution_count": null,
      "outputs": []
    },
    {
      "cell_type": "markdown",
      "metadata": {
        "id": "3eCFFOH_gk9h",
        "colab_type": "text"
      },
      "source": [
        "## Task 2"
      ]
    },
    {
      "cell_type": "code",
      "metadata": {
        "id": "o5uJ0FBK7LFt",
        "colab_type": "code",
        "colab": {}
      },
      "source": [
        "#Load dataset.csv for task 2 from drive\n",
        "path2 = \"/content/drive/My Drive/Colab Notebooks/Contoh/versi aing/bigml_59c28831336c6604c800002a.csv\"\n",
        "task2 = pd.read_csv(path2)"
      ],
      "execution_count": null,
      "outputs": []
    },
    {
      "cell_type": "code",
      "metadata": {
        "id": "SMVj_TYt7Olg",
        "colab_type": "code",
        "colab": {}
      },
      "source": [
        "#Encode Categorical\n",
        "new = task2.columns.tolist()\n",
        "le = LabelEncoder()\n",
        "task2[new] = task2[new].apply(lambda col: le.fit_transform(col))\n",
        "data2 = task2[new].drop(['phone number'], axis = 1) \n",
        "newdata = deepcopy(data2)"
      ],
      "execution_count": null,
      "outputs": []
    },
    {
      "cell_type": "code",
      "metadata": {
        "id": "GIwAvoTs7Rij",
        "colab_type": "code",
        "colab": {}
      },
      "source": [
        "#separating data and label class\n",
        "target = newdata['churn']\n",
        "#feature data\n",
        "data = newdata.drop(columns=['churn'])\n",
        "#cast it as input for our model\n",
        "xB = data\n",
        "yB = target"
      ],
      "execution_count": null,
      "outputs": []
    },
    {
      "cell_type": "markdown",
      "metadata": {
        "id": "GjNcEM00gq-N",
        "colab_type": "text"
      },
      "source": [
        "# Create and fit Model"
      ]
    },
    {
      "cell_type": "code",
      "metadata": {
        "id": "AvSMxcpDXXvu",
        "colab_type": "code",
        "colab": {
          "base_uri": "https://localhost:8080/",
          "height": 1000
        },
        "outputId": "831aeb98-d298-41b6-a460-e6347b13e0ce"
      },
      "source": [
        "model = create_model()\n",
        "model,historyA = train_model(xA,yA,model,[xA,yA],epochs=50)"
      ],
      "execution_count": null,
      "outputs": [
        {
          "output_type": "stream",
          "text": [
            "Train on 7043 samples, validate on 7043 samples\n",
            "Epoch 1/50\n",
            "7043/7043 [==============================] - 1s 81us/step - loss: 185.7372 - acc: 0.7346 - val_loss: 171.0421 - val_acc: 0.7346\n",
            "Epoch 2/50\n",
            "7043/7043 [==============================] - 0s 63us/step - loss: 156.7023 - acc: 0.7346 - val_loss: 142.1731 - val_acc: 0.7346\n",
            "Epoch 3/50\n",
            "7043/7043 [==============================] - 0s 62us/step - loss: 128.1142 - acc: 0.7346 - val_loss: 113.6178 - val_acc: 0.7346\n",
            "Epoch 4/50\n",
            "7043/7043 [==============================] - 0s 65us/step - loss: 99.1884 - acc: 0.7346 - val_loss: 84.6695 - val_acc: 0.7346\n",
            "Epoch 5/50\n",
            "7043/7043 [==============================] - 0s 64us/step - loss: 70.1174 - acc: 0.7346 - val_loss: 55.3571 - val_acc: 0.7346\n",
            "Epoch 6/50\n",
            "7043/7043 [==============================] - 0s 62us/step - loss: 40.8949 - acc: 0.7341 - val_loss: 26.0641 - val_acc: 0.7338\n",
            "Epoch 7/50\n",
            "7043/7043 [==============================] - 0s 65us/step - loss: 12.9405 - acc: 0.6954 - val_loss: 4.7514 - val_acc: 0.5912\n",
            "Epoch 8/50\n",
            "7043/7043 [==============================] - 0s 63us/step - loss: 4.0341 - acc: 0.5807 - val_loss: 3.5180 - val_acc: 0.5904\n",
            "Epoch 9/50\n",
            "7043/7043 [==============================] - 0s 65us/step - loss: 3.1763 - acc: 0.5907 - val_loss: 2.8302 - val_acc: 0.5874\n",
            "Epoch 10/50\n",
            "7043/7043 [==============================] - 0s 64us/step - loss: 2.5522 - acc: 0.5965 - val_loss: 2.2942 - val_acc: 0.5811\n",
            "Epoch 11/50\n",
            "7043/7043 [==============================] - 0s 64us/step - loss: 2.0576 - acc: 0.6040 - val_loss: 1.8223 - val_acc: 0.6158\n",
            "Epoch 12/50\n",
            "7043/7043 [==============================] - 0s 67us/step - loss: 1.6420 - acc: 0.6232 - val_loss: 1.4541 - val_acc: 0.6229\n",
            "Epoch 13/50\n",
            "7043/7043 [==============================] - 0s 65us/step - loss: 1.3242 - acc: 0.6331 - val_loss: 1.2059 - val_acc: 0.6595\n",
            "Epoch 14/50\n",
            "7043/7043 [==============================] - 0s 66us/step - loss: 1.1296 - acc: 0.6683 - val_loss: 1.0515 - val_acc: 0.6998\n",
            "Epoch 15/50\n",
            "7043/7043 [==============================] - 0s 64us/step - loss: 1.0086 - acc: 0.6908 - val_loss: 0.9682 - val_acc: 0.7193\n",
            "Epoch 16/50\n",
            "7043/7043 [==============================] - 0s 65us/step - loss: 0.9312 - acc: 0.7052 - val_loss: 0.8968 - val_acc: 0.7149\n",
            "Epoch 17/50\n",
            "7043/7043 [==============================] - 0s 64us/step - loss: 0.8835 - acc: 0.7193 - val_loss: 0.8613 - val_acc: 0.7155\n",
            "Epoch 18/50\n",
            "7043/7043 [==============================] - 0s 68us/step - loss: 0.8531 - acc: 0.7210 - val_loss: 0.8323 - val_acc: 0.7267\n",
            "Epoch 19/50\n",
            "7043/7043 [==============================] - 0s 64us/step - loss: 0.8338 - acc: 0.7244 - val_loss: 0.8085 - val_acc: 0.7304\n",
            "Epoch 20/50\n",
            "7043/7043 [==============================] - 0s 64us/step - loss: 0.8083 - acc: 0.7248 - val_loss: 0.8089 - val_acc: 0.7345\n",
            "Epoch 21/50\n",
            "7043/7043 [==============================] - 0s 66us/step - loss: 0.7836 - acc: 0.7295 - val_loss: 0.7695 - val_acc: 0.7275\n",
            "Epoch 22/50\n",
            "7043/7043 [==============================] - 0s 67us/step - loss: 0.7685 - acc: 0.7290 - val_loss: 0.7755 - val_acc: 0.7365\n",
            "Epoch 23/50\n",
            "7043/7043 [==============================] - 0s 67us/step - loss: 0.7533 - acc: 0.7277 - val_loss: 0.7773 - val_acc: 0.7132\n",
            "Epoch 24/50\n",
            "7043/7043 [==============================] - 0s 62us/step - loss: 0.7336 - acc: 0.7305 - val_loss: 0.7147 - val_acc: 0.7329\n",
            "Epoch 25/50\n",
            "7043/7043 [==============================] - 0s 64us/step - loss: 0.7198 - acc: 0.7329 - val_loss: 0.7067 - val_acc: 0.7382\n",
            "Epoch 26/50\n",
            "7043/7043 [==============================] - 0s 63us/step - loss: 0.7061 - acc: 0.7353 - val_loss: 0.7270 - val_acc: 0.7399\n",
            "Epoch 27/50\n",
            "7043/7043 [==============================] - 0s 64us/step - loss: 0.6917 - acc: 0.7339 - val_loss: 0.6851 - val_acc: 0.7422\n",
            "Epoch 28/50\n",
            "7043/7043 [==============================] - 0s 63us/step - loss: 0.6780 - acc: 0.7335 - val_loss: 0.6737 - val_acc: 0.7292\n",
            "Epoch 29/50\n",
            "7043/7043 [==============================] - 0s 67us/step - loss: 0.6657 - acc: 0.7368 - val_loss: 0.6532 - val_acc: 0.7341\n",
            "Epoch 30/50\n",
            "7043/7043 [==============================] - 0s 65us/step - loss: 0.6580 - acc: 0.7385 - val_loss: 0.6571 - val_acc: 0.7277\n",
            "Epoch 31/50\n",
            "7043/7043 [==============================] - 0s 62us/step - loss: 0.6402 - acc: 0.7389 - val_loss: 0.6298 - val_acc: 0.7419\n",
            "Epoch 32/50\n",
            "7043/7043 [==============================] - 0s 64us/step - loss: 0.6347 - acc: 0.7400 - val_loss: 0.6275 - val_acc: 0.7365\n",
            "Epoch 33/50\n",
            "7043/7043 [==============================] - 0s 64us/step - loss: 0.6224 - acc: 0.7431 - val_loss: 0.6150 - val_acc: 0.7551\n",
            "Epoch 34/50\n",
            "7043/7043 [==============================] - 0s 64us/step - loss: 0.6161 - acc: 0.7454 - val_loss: 0.6093 - val_acc: 0.7608\n",
            "Epoch 35/50\n",
            "7043/7043 [==============================] - 0s 66us/step - loss: 0.6081 - acc: 0.7497 - val_loss: 0.5941 - val_acc: 0.7439\n",
            "Epoch 36/50\n",
            "7043/7043 [==============================] - 0s 65us/step - loss: 0.6012 - acc: 0.7517 - val_loss: 0.5887 - val_acc: 0.7609\n",
            "Epoch 37/50\n",
            "7043/7043 [==============================] - 0s 64us/step - loss: 0.5884 - acc: 0.7525 - val_loss: 0.5927 - val_acc: 0.7399\n",
            "Epoch 38/50\n",
            "7043/7043 [==============================] - 0s 64us/step - loss: 0.5843 - acc: 0.7515 - val_loss: 0.5838 - val_acc: 0.7657\n",
            "Epoch 39/50\n",
            "7043/7043 [==============================] - 0s 64us/step - loss: 0.5768 - acc: 0.7588 - val_loss: 0.6017 - val_acc: 0.7616\n",
            "Epoch 40/50\n",
            "7043/7043 [==============================] - 0s 64us/step - loss: 0.5726 - acc: 0.7555 - val_loss: 0.5619 - val_acc: 0.7529\n",
            "Epoch 41/50\n",
            "7043/7043 [==============================] - 0s 65us/step - loss: 0.5639 - acc: 0.7566 - val_loss: 0.5661 - val_acc: 0.7473\n",
            "Epoch 42/50\n",
            "7043/7043 [==============================] - 0s 62us/step - loss: 0.5591 - acc: 0.7581 - val_loss: 0.5513 - val_acc: 0.7531\n",
            "Epoch 43/50\n",
            "7043/7043 [==============================] - 0s 64us/step - loss: 0.5572 - acc: 0.7588 - val_loss: 0.5585 - val_acc: 0.7688\n",
            "Epoch 44/50\n",
            "7043/7043 [==============================] - 0s 64us/step - loss: 0.5438 - acc: 0.7602 - val_loss: 0.5353 - val_acc: 0.7632\n",
            "Epoch 45/50\n",
            "7043/7043 [==============================] - 0s 65us/step - loss: 0.5423 - acc: 0.7608 - val_loss: 0.5320 - val_acc: 0.7688\n",
            "Epoch 46/50\n",
            "7043/7043 [==============================] - 0s 63us/step - loss: 0.5381 - acc: 0.7639 - val_loss: 0.5204 - val_acc: 0.7673\n",
            "Epoch 47/50\n",
            "7043/7043 [==============================] - 0s 66us/step - loss: 0.5279 - acc: 0.7616 - val_loss: 0.5131 - val_acc: 0.7679\n",
            "Epoch 48/50\n",
            "7043/7043 [==============================] - 0s 64us/step - loss: 0.5186 - acc: 0.7669 - val_loss: 0.5119 - val_acc: 0.7681\n",
            "Epoch 49/50\n",
            "7043/7043 [==============================] - 0s 65us/step - loss: 0.5144 - acc: 0.7643 - val_loss: 0.5079 - val_acc: 0.7619\n",
            "Epoch 50/50\n",
            "7043/7043 [==============================] - 0s 68us/step - loss: 0.5066 - acc: 0.7646 - val_loss: 0.5167 - val_acc: 0.7545\n"
          ],
          "name": "stdout"
        }
      ]
    },
    {
      "cell_type": "markdown",
      "metadata": {
        "id": "Ik5HQzqkek7q",
        "colab_type": "text"
      },
      "source": [
        "**Sequential Training**"
      ]
    },
    {
      "cell_type": "markdown",
      "metadata": {
        "id": "QmGrkbAskDNj",
        "colab_type": "text"
      },
      "source": [
        "1# Catastrophic Forgetting"
      ]
    },
    {
      "cell_type": "markdown",
      "metadata": {
        "id": "TKvL7-pD3Fif",
        "colab_type": "text"
      },
      "source": [
        "Skenario : xA,yA sebagai previous task dan\n",
        "xB,yB sebagai new task"
      ]
    },
    {
      "cell_type": "code",
      "metadata": {
        "id": "y-clZkLZh9f0",
        "colab_type": "code",
        "colab": {
          "base_uri": "https://localhost:8080/",
          "height": 752
        },
        "outputId": "88b04ed6-e3af-438f-9e00-2eb30c30e151"
      },
      "source": [
        "model,historyB = train_model(xB,yB,model,[xA,yA],epochs=50)"
      ],
      "execution_count": null,
      "outputs": [
        {
          "output_type": "stream",
          "text": [
            "Train on 3333 samples, validate on 7043 samples\n",
            "Epoch 1/50\n",
            "3333/3333 [==============================] - 0s 127us/step - loss: 113.8669 - acc: 0.8551 - val_loss: 186.3951 - val_acc: 0.2666\n",
            "Epoch 2/50\n",
            "3333/3333 [==============================] - 0s 94us/step - loss: 43.7862 - acc: 0.8122 - val_loss: 327.4163 - val_acc: 0.2654\n",
            "Epoch 3/50\n",
            "3333/3333 [==============================] - 0s 93us/step - loss: 17.1016 - acc: 0.7210 - val_loss: 337.7069 - val_acc: 0.2655\n",
            "Epoch 4/50\n",
            "3333/3333 [==============================] - 0s 97us/step - loss: 7.1277 - acc: 0.7237 - val_loss: 335.8279 - val_acc: 0.2657\n",
            "Epoch 5/50\n",
            "3333/3333 [==============================] - 0s 91us/step - loss: 4.3922 - acc: 0.7447 - val_loss: 340.1931 - val_acc: 0.2662\n",
            "Epoch 6/50\n",
            "3333/3333 [==============================] - 0s 89us/step - loss: 3.2592 - acc: 0.7651 - val_loss: 365.3448 - val_acc: 0.2664\n",
            "Epoch 7/50\n",
            "3333/3333 [==============================] - 0s 89us/step - loss: 2.7142 - acc: 0.7765 - val_loss: 395.7359 - val_acc: 0.2664\n",
            "Epoch 8/50\n",
            "3333/3333 [==============================] - 0s 88us/step - loss: 2.4068 - acc: 0.7828 - val_loss: 425.5050 - val_acc: 0.2662\n",
            "Epoch 9/50\n",
            "3333/3333 [==============================] - 0s 92us/step - loss: 2.1892 - acc: 0.7921 - val_loss: 457.0272 - val_acc: 0.2661\n",
            "Epoch 10/50\n",
            "3333/3333 [==============================] - 0s 91us/step - loss: 2.0607 - acc: 0.7933 - val_loss: 490.1880 - val_acc: 0.2661\n",
            "Epoch 11/50\n",
            "3333/3333 [==============================] - 0s 94us/step - loss: 1.9207 - acc: 0.7942 - val_loss: 520.3403 - val_acc: 0.2661\n",
            "Epoch 12/50\n",
            "3333/3333 [==============================] - 0s 94us/step - loss: 1.7974 - acc: 0.8068 - val_loss: 554.1777 - val_acc: 0.2661\n",
            "Epoch 13/50\n",
            "3333/3333 [==============================] - 0s 91us/step - loss: 1.6548 - acc: 0.8092 - val_loss: 589.0038 - val_acc: 0.2661\n",
            "Epoch 14/50\n",
            "3333/3333 [==============================] - 0s 100us/step - loss: 1.6592 - acc: 0.8008 - val_loss: 621.6072 - val_acc: 0.2661\n",
            "Epoch 15/50\n",
            "3333/3333 [==============================] - 0s 89us/step - loss: 1.5303 - acc: 0.8110 - val_loss: 654.0691 - val_acc: 0.2661\n",
            "Epoch 16/50\n",
            "3333/3333 [==============================] - 0s 88us/step - loss: 1.4773 - acc: 0.8125 - val_loss: 685.0739 - val_acc: 0.2661\n",
            "Epoch 17/50\n",
            "3333/3333 [==============================] - 0s 98us/step - loss: 1.4552 - acc: 0.8083 - val_loss: 719.2572 - val_acc: 0.2661\n",
            "Epoch 18/50\n",
            "3333/3333 [==============================] - 0s 89us/step - loss: 1.4218 - acc: 0.8074 - val_loss: 753.1631 - val_acc: 0.2661\n",
            "Epoch 19/50\n",
            "3333/3333 [==============================] - 0s 90us/step - loss: 1.4078 - acc: 0.8128 - val_loss: 785.6412 - val_acc: 0.2661\n",
            "Epoch 20/50\n",
            "3333/3333 [==============================] - 0s 94us/step - loss: 1.3237 - acc: 0.8056 - val_loss: 817.1524 - val_acc: 0.2661\n",
            "Epoch 21/50\n",
            "3333/3333 [==============================] - 0s 91us/step - loss: 1.4188 - acc: 0.8053 - val_loss: 847.5268 - val_acc: 0.2662\n",
            "Epoch 00021: early stopping\n"
          ],
          "name": "stdout"
        }
      ]
    },
    {
      "cell_type": "code",
      "metadata": {
        "id": "O4Bu04DVuBLA",
        "colab_type": "code",
        "colab": {
          "base_uri": "https://localhost:8080/",
          "height": 343
        },
        "outputId": "dedc0480-75bb-4b7d-ff18-a161b8ae9e7e"
      },
      "source": [
        "plt.plot(historyB.history[\"val_acc\"])\n",
        "plt.plot(historyB.history[\"acc\"])\n",
        "plt.xlabel(\"Epochs\")\n",
        "plt.ylabel(\"Accuracy\")\n",
        "plt.legend(['first task','new task'], loc='center')\n",
        "plt.title(\"Model Performance [Before EWC]\")\n",
        "plt.savefig('image_before EWC.png', format='png', dpi=1200)\n",
        "model.evaluate(xB,yB,verbose=0),model.evaluate(xA,yA,verbose=0),max(historyB.history[\"val_acc\"][10:])"
      ],
      "execution_count": null,
      "outputs": [
        {
          "output_type": "execute_result",
          "data": {
            "text/plain": [
              "([60.3403296872656, 0.8550854921340942],\n",
              " [0.516727049773802, 0.7545080184936523],\n",
              " 0.2662217915058136)"
            ]
          },
          "metadata": {
            "tags": []
          },
          "execution_count": 19
        },
        {
          "output_type": "display_data",
          "data": {
            "image/png": "[encoded data removed]",
            "text/plain": [
              "<Figure size 432x288 with 1 Axes>"
            ]
          },
          "metadata": {
            "tags": [],
            "needs_background": "light"
          }
        }
      ]
    },
    {
      "cell_type": "code",
      "metadata": {
        "id": "953F0YxVpqKh",
        "colab_type": "code",
        "colab": {}
      },
      "source": [
        "model.summary()"
      ],
      "execution_count": null,
      "outputs": []
    }
  ]
}